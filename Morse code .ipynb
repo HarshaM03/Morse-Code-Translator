{
 "cells": [
  {
   "cell_type": "code",
   "execution_count": 2,
   "id": "40d0accc",
   "metadata": {},
   "outputs": [
    {
     "name": "stdout",
     "output_type": "stream",
     "text": [
      "Enter a word to convert to Morse Code: ramya\n",
      "Morse Code: .-. .- -- -.-- .-\n",
      "Back to English: RAMYA\n"
     ]
    }
   ],
   "source": [
    "MORSE_CODE_DICT = {\n",
    "    'A': '.-', 'B': '-...', 'C': '-.-.', 'D': '-..', 'E': '.', \n",
    "    'F': '..-.', 'G': '--.', 'H': '....', 'I': '..', 'J': '.---', \n",
    "    'K': '-.-', 'L': '.-..', 'M': '--', 'N': '-.', 'O': '---', \n",
    "    'P': '.--.', 'Q': '--.-', 'R': '.-.', 'S': '...', 'T': '-', \n",
    "    'U': '..-', 'V': '...-', 'W': '.--', 'X': '-..-', 'Y': '-.--', \n",
    "    'Z': '--..', '1': '.----', '2': '..---', '3': '...--', \n",
    "    '4': '....-', '5': '.....', '6': '-....', '7': '--...', \n",
    "    '8': '---..', '9': '----.', '0': '-----', ',': '--..--', \n",
    "    '.': '.-.-.-', '?': '..--..', '/': '-..-.', '-': '-....-', \n",
    "    '(': '-.--.', ')': '-.--.-'\n",
    "}\n",
    "\n",
    "\n",
    "def encrypt(message):\n",
    "    cipher = ''\n",
    "    for letter in message:\n",
    "        if letter != ' ':\n",
    "            cipher += MORSE_CODE_DICT.get(letter.upper(), '') + ' '\n",
    "        else:\n",
    "            cipher += ' '\n",
    "    return cipher.strip()\n",
    "\n",
    "\n",
    "def decrypt(message):\n",
    "    message += ' ' \n",
    "    decipher = ''\n",
    "    citext = ''\n",
    "    i = 0\n",
    "    for letter in message:\n",
    "        if letter != ' ':\n",
    "            i = 0\n",
    "            citext += letter\n",
    "        else:\n",
    "            i += 1\n",
    "            if i == 2:\n",
    "                decipher += ' '\n",
    "            else:\n",
    "                decipher += list(MORSE_CODE_DICT.keys())[list(MORSE_CODE_DICT.values()).index(citext)]\n",
    "                citext = ''\n",
    "    return decipher\n",
    "\n",
    "\n",
    "def main():\n",
    "    word = input(\"Enter a word to convert to Morse Code: \").strip()\n",
    "    morse_code = encrypt(word)\n",
    "    print(\"Morse Code:\", morse_code)\n",
    "\n",
    "    print(\"Back to English:\", decrypt(morse_code))\n",
    "\n",
    "if __name__ == '__main__':\n",
    "    main()\n"
   ]
  },
  {
   "cell_type": "code",
   "execution_count": null,
   "id": "077e863c",
   "metadata": {},
   "outputs": [],
   "source": []
  }
 ],
 "metadata": {
  "kernelspec": {
   "display_name": "Python 3 (ipykernel)",
   "language": "python",
   "name": "python3"
  },
  "language_info": {
   "codemirror_mode": {
    "name": "ipython",
    "version": 3
   },
   "file_extension": ".py",
   "mimetype": "text/x-python",
   "name": "python",
   "nbconvert_exporter": "python",
   "pygments_lexer": "ipython3",
   "version": "3.11.5"
  }
 },
 "nbformat": 4,
 "nbformat_minor": 5
}
